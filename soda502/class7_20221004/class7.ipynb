{
 "cells": [
  {
   "cell_type": "code",
   "execution_count": 20,
   "metadata": {},
   "outputs": [],
   "source": [
    "from selenium import webdriver\n",
    "import time\n",
    "from bs4 import BeautifulSoup\n",
    "import re"
   ]
  },
  {
   "cell_type": "code",
   "execution_count": 3,
   "metadata": {},
   "outputs": [
    {
     "name": "stderr",
     "output_type": "stream",
     "text": [
      "/tmp/ipykernel_4308/888665202.py:1: DeprecationWarning: executable_path has been deprecated, please pass in a Service object\n",
      "  driver = webdriver.Firefox(executable_path = '/usr/local/bin/geckodriver')\n"
     ]
    }
   ],
   "source": [
    "driver = webdriver.Firefox(executable_path = '/usr/local/bin/geckodriver')"
   ]
  },
  {
   "cell_type": "code",
   "execution_count": 4,
   "metadata": {},
   "outputs": [],
   "source": [
    "driver.get(r'https://wwww.behindthename.com')"
   ]
  },
  {
   "cell_type": "code",
   "execution_count": 5,
   "metadata": {},
   "outputs": [],
   "source": [
    "driver.find_element(\"id\", \"main_search\").send_keys(str('frank'))"
   ]
  },
  {
   "cell_type": "code",
   "execution_count": 6,
   "metadata": {},
   "outputs": [],
   "source": [
    "driver.find_element(\"id\", \"main_search_button\").click()"
   ]
  },
  {
   "cell_type": "code",
   "execution_count": 8,
   "metadata": {},
   "outputs": [],
   "source": [
    "driver.find_element(\"link text\", \"Ratings\").click()"
   ]
  },
  {
   "cell_type": "code",
   "execution_count": 11,
   "metadata": {},
   "outputs": [],
   "source": [
    "html = driver.page_source\n",
    "pageSource = driver.execute_script(\"return document.body.innerHTML;\")"
   ]
  },
  {
   "cell_type": "code",
   "execution_count": 13,
   "metadata": {},
   "outputs": [],
   "source": [
    "soup = BeautifulSoup(pageSource, \"html.parser\")"
   ]
  },
  {
   "cell_type": "code",
   "execution_count": 38,
   "metadata": {},
   "outputs": [
    {
     "name": "stdout",
     "output_type": "stream",
     "text": [
      "<span aria-live=\"polite\" class=\"ui-helper-hidden-accessible\" role=\"status\"></span>\n",
      "<span>Menu</span>\n",
      "<span style=\"color:#24243f;font-weight:bold;\">A Good Name</span>\n",
      "<span style=\"color:#24243f;\">73%</span>\n",
      "<span style=\"color:#a4a4bf;\">27%</span>\n",
      "<span style=\"color:#a4a4bf;font-weight:bold;\">A Bad Name</span>\n",
      "<span style=\"color:#04041f;font-weight:bold;\">Masculine</span>\n",
      "<span style=\"color:#04041f;\">93%</span>\n",
      "<span style=\"color:#c4c4df;\">7%</span>\n",
      "<span style=\"color:#c4c4df;font-weight:bold;\">Feminine</span>\n",
      "<span style=\"color:#14142f;font-weight:bold;\">Classic</span>\n",
      "<span style=\"color:#14142f;\">84%</span>\n",
      "<span style=\"color:#b4b4cf;\">16%</span>\n",
      "<span style=\"color:#b4b4cf;font-weight:bold;\">Modern</span>\n",
      "<span style=\"color:#24243f;font-weight:bold;\">Mature</span>\n",
      "<span style=\"color:#24243f;\">79%</span>\n",
      "<span style=\"color:#a4a4bf;\">21%</span>\n",
      "<span style=\"color:#a4a4bf;font-weight:bold;\">Youthful</span>\n",
      "<span style=\"color:#666681;font-weight:bold;\">Formal</span>\n",
      "<span style=\"color:#666681;\">41%</span>\n",
      "<span style=\"color:#62627d;\">59%</span>\n",
      "<span style=\"color:#62627d;font-weight:bold;\">Informal</span>\n",
      "<span style=\"color:#84849f;font-weight:bold;\">Upper Class</span>\n",
      "<span style=\"color:#84849f;\">31%</span>\n",
      "<span style=\"color:#44445f;\">69%</span>\n",
      "<span style=\"color:#44445f;font-weight:bold;\">Common</span>\n",
      "<span style=\"color:#84849f;font-weight:bold;\">Urban</span>\n",
      "<span style=\"color:#84849f;\">37%</span>\n",
      "<span style=\"color:#44445f;\">63%</span>\n",
      "<span style=\"color:#44445f;font-weight:bold;\">Natural</span>\n",
      "<span style=\"color:#24243f;font-weight:bold;\">Wholesome</span>\n",
      "<span style=\"color:#24243f;\">78%</span>\n",
      "<span style=\"color:#a4a4bf;\">22%</span>\n",
      "<span style=\"color:#a4a4bf;font-weight:bold;\">Devious</span>\n",
      "<span style=\"color:#14142f;font-weight:bold;\">Strong</span>\n",
      "<span style=\"color:#14142f;\">89%</span>\n",
      "<span style=\"color:#b4b4cf;\">11%</span>\n",
      "<span style=\"color:#b4b4cf;font-weight:bold;\">Delicate</span>\n",
      "<span style=\"color:#84849f;font-weight:bold;\">Refined</span>\n",
      "<span style=\"color:#84849f;\">37%</span>\n",
      "<span style=\"color:#44445f;\">63%</span>\n",
      "<span style=\"color:#44445f;font-weight:bold;\">Rough</span>\n",
      "<span style=\"color:#84849f;font-weight:bold;\">Strange</span>\n",
      "<span style=\"color:#84849f;\">39%</span>\n",
      "<span style=\"color:#44445f;\">61%</span>\n",
      "<span style=\"color:#44445f;font-weight:bold;\">Boring</span>\n",
      "<span style=\"color:#14142f;font-weight:bold;\">Simple</span>\n",
      "<span style=\"color:#14142f;\">82%</span>\n",
      "<span style=\"color:#b4b4cf;\">18%</span>\n",
      "<span style=\"color:#b4b4cf;font-weight:bold;\">Complex</span>\n",
      "<span style=\"color:#62627d;font-weight:bold;\">Serious</span>\n",
      "<span style=\"color:#62627d;\">59%</span>\n",
      "<span style=\"color:#666681;\">41%</span>\n",
      "<span style=\"color:#666681;font-weight:bold;\">Comedic</span>\n",
      "<span style=\"color:#62627d;font-weight:bold;\">Nerdy</span>\n",
      "<span style=\"color:#62627d;\">59%</span>\n",
      "<span style=\"color:#666681;\">41%</span>\n",
      "<span style=\"color:#666681;font-weight:bold;\">Unintellectual</span>\n",
      "<span>Name</span>\n",
      "<span>Popularity</span>\n",
      "<span>Related</span>\n",
      "<span>Ratings</span>\n",
      "<span>Comments</span>\n",
      "<span>Namesakes</span>\n",
      "<span>Name Days</span>\n",
      "<span style=\"color:rgb(127,127,127);font-size:10px;vertical-align:middle;margin-top:10px;\">Powered by</span>\n"
     ]
    }
   ],
   "source": [
    "spans = soup.findAll(\"span\")\n",
    "\n",
    "for span in spans:\n",
    "    print(span)\n",
    "\n",
    "# easy way\n",
    "goodname_easy = str(spans[3].text)\n",
    "\n",
    "# pedantic way\n",
    "goodname_regex = int(re.findall(\">(.*)%<\", str(spans[3]))[0])"
   ]
  }
 ],
 "metadata": {
  "kernelspec": {
   "display_name": "Python 3.9.12 ('soda502')",
   "language": "python",
   "name": "python3"
  },
  "language_info": {
   "codemirror_mode": {
    "name": "ipython",
    "version": 3
   },
   "file_extension": ".py",
   "mimetype": "text/x-python",
   "name": "python",
   "nbconvert_exporter": "python",
   "pygments_lexer": "ipython3",
   "version": "3.9.12"
  },
  "orig_nbformat": 4,
  "vscode": {
   "interpreter": {
    "hash": "e6468b8895e924fccc236d0128e65103e16ba8e1a9332fc567cc87d0793038d3"
   }
  }
 },
 "nbformat": 4,
 "nbformat_minor": 2
}
