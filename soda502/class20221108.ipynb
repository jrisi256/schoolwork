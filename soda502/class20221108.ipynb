{
 "cells": [
  {
   "cell_type": "code",
   "execution_count": 83,
   "metadata": {},
   "outputs": [],
   "source": [
    "from mesa import Model, Agent\n",
    "from mesa.time import RandomActivation\n",
    "from mesa.space import SingleGrid\n",
    "from mesa.datacollection import DataCollector\n",
    "import random\n",
    "import pandas as pd\n",
    "import matplotlib.pyplot as plt"
   ]
  },
  {
   "cell_type": "code",
   "execution_count": 1,
   "metadata": {},
   "outputs": [
    {
     "data": {
      "text/plain": [
       "9"
      ]
     },
     "execution_count": 1,
     "metadata": {},
     "output_type": "execute_result"
    }
   ],
   "source": [
    "def addition(x, y):\n",
    "    return x + y\n",
    "\n",
    "addition(5, 4)"
   ]
  },
  {
   "cell_type": "code",
   "execution_count": 3,
   "metadata": {},
   "outputs": [],
   "source": [
    "class Person:\n",
    "    def __init__(self, name):\n",
    "        self.name = name\n",
    "    \n",
    "    def say_hi(self):\n",
    "        print(\"Hello, my name is \", self.name)"
   ]
  },
  {
   "cell_type": "code",
   "execution_count": 5,
   "metadata": {},
   "outputs": [
    {
     "name": "stdout",
     "output_type": "stream",
     "text": [
      "Hello, my name is  Charles\n"
     ]
    }
   ],
   "source": [
    "p1 = Person(\"Charles\")\n",
    "p1.say_hi()"
   ]
  },
  {
   "cell_type": "code",
   "execution_count": 60,
   "metadata": {},
   "outputs": [],
   "source": [
    "class SchellingAgent(Agent):\n",
    "    def __init__(self, pos, model, agent_type):\n",
    "        super().__init__(pos, model)\n",
    "        self.pos = pos\n",
    "        self.type = agent_type\n",
    "\n",
    "    def step(self):\n",
    "        similar = 0\n",
    "        neighbors = self.model.grid.neighbor_iter(self.pos)\n",
    "\n",
    "        for neighbor in neighbors:\n",
    "            if neighbor.type == self.type:\n",
    "                similar += 1\n",
    "\n",
    "        if similar < self.model.homophily:\n",
    "            self.model.grid.move_to_empty(self)\n",
    "        else:\n",
    "            self.model.happy += 1\n",
    "\n",
    "class SchellingModel(Model):\n",
    "    def __init__(self, height, width, density, minority_pc, homophily):\n",
    "        self.height = height\n",
    "        self.width = width\n",
    "        self.density = density\n",
    "        self.minority_pc = minority_pc\n",
    "        self.homophily = homophily\n",
    "        self.schedule = RandomActivation(self)\n",
    "        self.grid = SingleGrid(width, height, torus = True)\n",
    "        self.happy = 0\n",
    "        self.datacollector = DataCollector({\"happy\": lambda m: m.happy})\n",
    "        self.running = True\n",
    "\n",
    "        for cell in self.grid.coord_iter():\n",
    "            x = cell[1]\n",
    "            y = cell[2]\n",
    "            if random.random() < self.density:\n",
    "                if random.random() < self.minority_pc:\n",
    "                    agent_type = 1\n",
    "                else:\n",
    "                    agent_type = 0\n",
    "\n",
    "                agent = SchellingAgent((x, y), self, agent_type)\n",
    "                self.grid.position_agent(agent, (x, y))\n",
    "                self.schedule.add(agent)\n",
    "    \n",
    "    def step(self):\n",
    "        self.happy = 0\n",
    "        self.schedule.step()\n",
    "        self.datacollector.collect(self)\n",
    "        if self.happy == self.schedule.get_agent_count():\n",
    "            self.running = False"
   ]
  },
  {
   "cell_type": "code",
   "execution_count": 73,
   "metadata": {},
   "outputs": [],
   "source": [
    "model = SchellingModel(10, 10, 0.6, 0.4, 3)"
   ]
  },
  {
   "cell_type": "code",
   "execution_count": 74,
   "metadata": {},
   "outputs": [
    {
     "name": "stderr",
     "output_type": "stream",
     "text": [
      "/home/joe/Documents/schoolwork/soda502/soda502/lib/python3.9/site-packages/mesa/space.py:204: UserWarning: `neighbor_iter` is deprecated in favor of `iter_neighbors` and will be removed in the subsequent version.\n",
      "  warn(\n"
     ]
    }
   ],
   "source": [
    "while model.running and model.schedule.steps < 100:\n",
    "    model.step()"
   ]
  },
  {
   "cell_type": "code",
   "execution_count": 75,
   "metadata": {},
   "outputs": [
    {
     "name": "stdout",
     "output_type": "stream",
     "text": [
      "26\n"
     ]
    }
   ],
   "source": [
    "print(model.schedule.steps)\n",
    "model_out = model.datacollector.get_model_vars_dataframe()"
   ]
  },
  {
   "cell_type": "code",
   "execution_count": 76,
   "metadata": {},
   "outputs": [
    {
     "data": {
      "text/plain": [
       "<AxesSubplot:>"
      ]
     },
     "execution_count": 76,
     "metadata": {},
     "output_type": "execute_result"
    },
    {
     "data": {
      "image/png": "[encoded data removed]",
      "text/plain": [
       "<Figure size 640x480 with 1 Axes>"
      ]
     },
     "metadata": {},
     "output_type": "display_data"
    }
   ],
   "source": [
    "model_out.happy.plot()"
   ]
  },
  {
   "cell_type": "code",
   "execution_count": 77,
   "metadata": {},
   "outputs": [],
   "source": [
    "def get_segregation(model):\n",
    "    segregated_agent = 0\n",
    "    \n",
    "    for agent in model.schedule.agents:\n",
    "\n",
    "        segregated_agents = 0\n",
    "\n",
    "        for agent in model.schedule.agents:\n",
    "            segregated = True\n",
    "\n",
    "            for neighbor in model.grid.neighbor_iter(agent.pos):\n",
    "                if neighbor.type != agent.type:\n",
    "                    segregated = False\n",
    "                    break\n",
    "            \n",
    "            if segregated:\n",
    "                segregated_agents += 1\n",
    "        \n",
    "    return segregated_agents / model.schedule.get_agent_count()"
   ]
  },
  {
   "cell_type": "code",
   "execution_count": 78,
   "metadata": {},
   "outputs": [
    {
     "name": "stderr",
     "output_type": "stream",
     "text": [
      "/home/joe/Documents/schoolwork/soda502/soda502/lib/python3.9/site-packages/mesa/space.py:204: UserWarning: `neighbor_iter` is deprecated in favor of `iter_neighbors` and will be removed in the subsequent version.\n",
      "  warn(\n"
     ]
    },
    {
     "data": {
      "text/plain": [
       "0.5740740740740741"
      ]
     },
     "execution_count": 78,
     "metadata": {},
     "output_type": "execute_result"
    }
   ],
   "source": [
    "get_segregation(model)"
   ]
  },
  {
   "cell_type": "code",
   "execution_count": 81,
   "metadata": {},
   "outputs": [
    {
     "name": "stderr",
     "output_type": "stream",
     "text": [
      "/home/joe/Documents/schoolwork/soda502/soda502/lib/python3.9/site-packages/mesa/space.py:204: UserWarning: `neighbor_iter` is deprecated in favor of `iter_neighbors` and will be removed in the subsequent version.\n",
      "  warn(\n"
     ]
    }
   ],
   "source": [
    "data = []\n",
    "for density in range(1, 10):\n",
    "    \n",
    "    density = density / 10\n",
    "    model = SchellingModel(10, 10, density, 0.4, 3)\n",
    "\n",
    "    while model.running and model.schedule.steps < 100:\n",
    "        model.step()\n",
    "\n",
    "    iterations = model.schedule.steps\n",
    "    data.append([density, iterations])"
   ]
  },
  {
   "cell_type": "code",
   "execution_count": 86,
   "metadata": {},
   "outputs": [
    {
     "name": "stderr",
     "output_type": "stream",
     "text": [
      "/home/joe/Documents/schoolwork/soda502/soda502/lib/python3.9/site-packages/mesa/space.py:204: UserWarning: `neighbor_iter` is deprecated in favor of `iter_neighbors` and will be removed in the subsequent version.\n",
      "  warn(\n"
     ]
    }
   ],
   "source": [
    "data_seg = []\n",
    "\n",
    "for minority_pc in range(1, 50):\n",
    "    minority_pc = minority_pc / 100\n",
    "\n",
    "    model = SchellingModel(10, 10, 0.6, minority_pc, 3)\n",
    "\n",
    "    while model.running and model.schedule.steps < 100:\n",
    "        model.step()\n",
    "\n",
    "    segregation = get_segregation(model)\n",
    "    data_seg.append([segregation, minority_pc])"
   ]
  },
  {
   "cell_type": "code",
   "execution_count": 87,
   "metadata": {},
   "outputs": [
    {
     "data": {
      "text/plain": [
       "<function matplotlib.pyplot.grid(visible=None, which='major', axis='both', **kwargs)>"
      ]
     },
     "execution_count": 87,
     "metadata": {},
     "output_type": "execute_result"
    },
    {
     "data": {
      "image/png": "[encoded data removed]",
      "text/plain": [
       "<Figure size 640x480 with 1 Axes>"
      ]
     },
     "metadata": {},
     "output_type": "display_data"
    }
   ],
   "source": [
    "df = pd.DataFrame(data_seg, columns = [\"segregation\", \"minority_pc\"])\n",
    "plt.scatter(df.minority_pc, df.segregation)\n",
    "plt.grid"
   ]
  },
  {
   "cell_type": "code",
   "execution_count": 92,
   "metadata": {},
   "outputs": [
    {
     "name": "stdout",
     "output_type": "stream",
     "text": [
      "10\n",
      "11\n",
      "12\n",
      "13\n"
     ]
    },
    {
     "name": "stderr",
     "output_type": "stream",
     "text": [
      "/home/joe/Documents/schoolwork/soda502/soda502/lib/python3.9/site-packages/mesa/space.py:204: UserWarning: `neighbor_iter` is deprecated in favor of `iter_neighbors` and will be removed in the subsequent version.\n",
      "  warn(\n"
     ]
    },
    {
     "name": "stdout",
     "output_type": "stream",
     "text": [
      "14\n",
      "15\n",
      "16\n",
      "17\n",
      "18\n",
      "19\n",
      "20\n",
      "21\n",
      "22\n",
      "23\n",
      "24\n",
      "25\n",
      "26\n",
      "27\n",
      "28\n",
      "29\n",
      "30\n",
      "31\n"
     ]
    },
    {
     "ename": "KeyboardInterrupt",
     "evalue": "",
     "output_type": "error",
     "traceback": [
      "\u001b[0;31m---------------------------------------------------------------------------\u001b[0m",
      "\u001b[0;31mKeyboardInterrupt\u001b[0m                         Traceback (most recent call last)",
      "\u001b[1;32m/home/joe/Documents/schoolwork/soda502/class20221108.ipynb Cell 15\u001b[0m in \u001b[0;36m<cell line: 2>\u001b[0;34m()\u001b[0m\n\u001b[1;32m      <a href='vscode-notebook-cell:/home/joe/Documents/schoolwork/soda502/class20221108.ipynb#X23sZmlsZQ%3D%3D?line=3'>4</a>\u001b[0m model \u001b[39m=\u001b[39m SchellingModel(grid_size, grid_size, \u001b[39m0.6\u001b[39m, \u001b[39m0.4\u001b[39m, \u001b[39m3\u001b[39m)\n\u001b[1;32m      <a href='vscode-notebook-cell:/home/joe/Documents/schoolwork/soda502/class20221108.ipynb#X23sZmlsZQ%3D%3D?line=5'>6</a>\u001b[0m \u001b[39mwhile\u001b[39;00m model\u001b[39m.\u001b[39mrunning \u001b[39mand\u001b[39;00m model\u001b[39m.\u001b[39mschedule\u001b[39m.\u001b[39msteps \u001b[39m<\u001b[39m \u001b[39m100\u001b[39m:\n\u001b[0;32m----> <a href='vscode-notebook-cell:/home/joe/Documents/schoolwork/soda502/class20221108.ipynb#X23sZmlsZQ%3D%3D?line=6'>7</a>\u001b[0m     model\u001b[39m.\u001b[39;49mstep()\n\u001b[1;32m      <a href='vscode-notebook-cell:/home/joe/Documents/schoolwork/soda502/class20221108.ipynb#X23sZmlsZQ%3D%3D?line=8'>9</a>\u001b[0m segregation \u001b[39m=\u001b[39m get_segregation(model)\n\u001b[1;32m     <a href='vscode-notebook-cell:/home/joe/Documents/schoolwork/soda502/class20221108.ipynb#X23sZmlsZQ%3D%3D?line=9'>10</a>\u001b[0m data_size\u001b[39m.\u001b[39mappend([segregation, grid_size])\n",
      "\u001b[1;32m/home/joe/Documents/schoolwork/soda502/class20221108.ipynb Cell 15\u001b[0m in \u001b[0;36mSchellingModel.step\u001b[0;34m(self)\u001b[0m\n\u001b[1;32m     <a href='vscode-notebook-cell:/home/joe/Documents/schoolwork/soda502/class20221108.ipynb#X23sZmlsZQ%3D%3D?line=45'>46</a>\u001b[0m \u001b[39mdef\u001b[39;00m \u001b[39mstep\u001b[39m(\u001b[39mself\u001b[39m):\n\u001b[1;32m     <a href='vscode-notebook-cell:/home/joe/Documents/schoolwork/soda502/class20221108.ipynb#X23sZmlsZQ%3D%3D?line=46'>47</a>\u001b[0m     \u001b[39mself\u001b[39m\u001b[39m.\u001b[39mhappy \u001b[39m=\u001b[39m \u001b[39m0\u001b[39m\n\u001b[0;32m---> <a href='vscode-notebook-cell:/home/joe/Documents/schoolwork/soda502/class20221108.ipynb#X23sZmlsZQ%3D%3D?line=47'>48</a>\u001b[0m     \u001b[39mself\u001b[39;49m\u001b[39m.\u001b[39;49mschedule\u001b[39m.\u001b[39;49mstep()\n\u001b[1;32m     <a href='vscode-notebook-cell:/home/joe/Documents/schoolwork/soda502/class20221108.ipynb#X23sZmlsZQ%3D%3D?line=48'>49</a>\u001b[0m     \u001b[39mself\u001b[39m\u001b[39m.\u001b[39mdatacollector\u001b[39m.\u001b[39mcollect(\u001b[39mself\u001b[39m)\n\u001b[1;32m     <a href='vscode-notebook-cell:/home/joe/Documents/schoolwork/soda502/class20221108.ipynb#X23sZmlsZQ%3D%3D?line=49'>50</a>\u001b[0m     \u001b[39mif\u001b[39;00m \u001b[39mself\u001b[39m\u001b[39m.\u001b[39mhappy \u001b[39m==\u001b[39m \u001b[39mself\u001b[39m\u001b[39m.\u001b[39mschedule\u001b[39m.\u001b[39mget_agent_count():\n",
      "File \u001b[0;32m~/Documents/schoolwork/soda502/soda502/lib/python3.9/site-packages/mesa/time.py:129\u001b[0m, in \u001b[0;36mRandomActivation.step\u001b[0;34m(self)\u001b[0m\n\u001b[1;32m    124\u001b[0m \u001b[39m\"\"\"Executes the step of all agents, one at a time, in\u001b[39;00m\n\u001b[1;32m    125\u001b[0m \u001b[39mrandom order.\u001b[39;00m\n\u001b[1;32m    126\u001b[0m \n\u001b[1;32m    127\u001b[0m \u001b[39m\"\"\"\u001b[39;00m\n\u001b[1;32m    128\u001b[0m \u001b[39mfor\u001b[39;00m agent \u001b[39min\u001b[39;00m \u001b[39mself\u001b[39m\u001b[39m.\u001b[39magent_buffer(shuffled\u001b[39m=\u001b[39m\u001b[39mTrue\u001b[39;00m):\n\u001b[0;32m--> 129\u001b[0m     agent\u001b[39m.\u001b[39;49mstep()\n\u001b[1;32m    130\u001b[0m \u001b[39mself\u001b[39m\u001b[39m.\u001b[39msteps \u001b[39m+\u001b[39m\u001b[39m=\u001b[39m \u001b[39m1\u001b[39m\n\u001b[1;32m    131\u001b[0m \u001b[39mself\u001b[39m\u001b[39m.\u001b[39mtime \u001b[39m+\u001b[39m\u001b[39m=\u001b[39m \u001b[39m1\u001b[39m\n",
      "\u001b[1;32m/home/joe/Documents/schoolwork/soda502/class20221108.ipynb Cell 15\u001b[0m in \u001b[0;36mSchellingAgent.step\u001b[0;34m(self)\u001b[0m\n\u001b[1;32m      <a href='vscode-notebook-cell:/home/joe/Documents/schoolwork/soda502/class20221108.ipynb#X23sZmlsZQ%3D%3D?line=6'>7</a>\u001b[0m \u001b[39mdef\u001b[39;00m \u001b[39mstep\u001b[39m(\u001b[39mself\u001b[39m):\n\u001b[1;32m      <a href='vscode-notebook-cell:/home/joe/Documents/schoolwork/soda502/class20221108.ipynb#X23sZmlsZQ%3D%3D?line=7'>8</a>\u001b[0m     similar \u001b[39m=\u001b[39m \u001b[39m0\u001b[39m\n\u001b[0;32m----> <a href='vscode-notebook-cell:/home/joe/Documents/schoolwork/soda502/class20221108.ipynb#X23sZmlsZQ%3D%3D?line=8'>9</a>\u001b[0m     neighbors \u001b[39m=\u001b[39m \u001b[39mself\u001b[39;49m\u001b[39m.\u001b[39;49mmodel\u001b[39m.\u001b[39;49mgrid\u001b[39m.\u001b[39;49mneighbor_iter(\u001b[39mself\u001b[39;49m\u001b[39m.\u001b[39;49mpos)\n\u001b[1;32m     <a href='vscode-notebook-cell:/home/joe/Documents/schoolwork/soda502/class20221108.ipynb#X23sZmlsZQ%3D%3D?line=10'>11</a>\u001b[0m     \u001b[39mfor\u001b[39;00m neighbor \u001b[39min\u001b[39;00m neighbors:\n\u001b[1;32m     <a href='vscode-notebook-cell:/home/joe/Documents/schoolwork/soda502/class20221108.ipynb#X23sZmlsZQ%3D%3D?line=11'>12</a>\u001b[0m         \u001b[39mif\u001b[39;00m neighbor\u001b[39m.\u001b[39mtype \u001b[39m==\u001b[39m \u001b[39mself\u001b[39m\u001b[39m.\u001b[39mtype:\n",
      "File \u001b[0;32m~/Documents/schoolwork/soda502/soda502/lib/python3.9/site-packages/mesa/space.py:208\u001b[0m, in \u001b[0;36mGrid.neighbor_iter\u001b[0;34m(self, pos, moore)\u001b[0m\n\u001b[1;32m    196\u001b[0m \u001b[39m\"\"\"Iterate over position neighbors.\u001b[39;00m\n\u001b[1;32m    197\u001b[0m \n\u001b[1;32m    198\u001b[0m \u001b[39mArgs:\u001b[39;00m\n\u001b[0;32m   (...)\u001b[0m\n\u001b[1;32m    201\u001b[0m \u001b[39m           diagonals) or Von Neumann (only up/down/left/right).\u001b[39;00m\n\u001b[1;32m    202\u001b[0m \u001b[39m\"\"\"\u001b[39;00m\n\u001b[1;32m    204\u001b[0m warn(\n\u001b[1;32m    205\u001b[0m     \u001b[39m\"\u001b[39m\u001b[39m`neighbor_iter` is deprecated in favor of `iter_neighbors` \u001b[39m\u001b[39m\"\u001b[39m\n\u001b[1;32m    206\u001b[0m     \u001b[39m\"\u001b[39m\u001b[39mand will be removed in the subsequent version.\u001b[39m\u001b[39m\"\u001b[39m\n\u001b[1;32m    207\u001b[0m )\n\u001b[0;32m--> 208\u001b[0m \u001b[39mreturn\u001b[39;00m \u001b[39mself\u001b[39;49m\u001b[39m.\u001b[39;49miter_neighbors(pos, moore)\n",
      "File \u001b[0;32m~/Documents/schoolwork/soda502/soda502/lib/python3.9/site-packages/mesa/space.py:321\u001b[0m, in \u001b[0;36mGrid.iter_neighbors\u001b[0;34m(self, pos, moore, include_center, radius)\u001b[0m\n\u001b[1;32m    296\u001b[0m \u001b[39mdef\u001b[39;00m \u001b[39miter_neighbors\u001b[39m(\n\u001b[1;32m    297\u001b[0m     \u001b[39mself\u001b[39m,\n\u001b[1;32m    298\u001b[0m     pos: Coordinate,\n\u001b[0;32m   (...)\u001b[0m\n\u001b[1;32m    301\u001b[0m     radius: \u001b[39mint\u001b[39m \u001b[39m=\u001b[39m \u001b[39m1\u001b[39m,\n\u001b[1;32m    302\u001b[0m ) \u001b[39m-\u001b[39m\u001b[39m>\u001b[39m Iterator[Agent]:\n\u001b[1;32m    303\u001b[0m     \u001b[39m\"\"\"Return an iterator over neighbors to a certain point.\u001b[39;00m\n\u001b[1;32m    304\u001b[0m \n\u001b[1;32m    305\u001b[0m \u001b[39m    Args:\u001b[39;00m\n\u001b[0;32m   (...)\u001b[0m\n\u001b[1;32m    319\u001b[0m \u001b[39m        (8 and 4 if not including the center).\u001b[39;00m\n\u001b[1;32m    320\u001b[0m \u001b[39m    \"\"\"\u001b[39;00m\n\u001b[0;32m--> 321\u001b[0m     neighborhood \u001b[39m=\u001b[39m \u001b[39mself\u001b[39;49m\u001b[39m.\u001b[39;49mget_neighborhood(pos, moore, include_center, radius)\n\u001b[1;32m    322\u001b[0m     \u001b[39mreturn\u001b[39;00m \u001b[39mself\u001b[39m\u001b[39m.\u001b[39miter_cell_list_contents(neighborhood)\n",
      "File \u001b[0;32m~/Documents/schoolwork/soda502/soda502/lib/python3.9/site-packages/mesa/space.py:291\u001b[0m, in \u001b[0;36mGrid.get_neighborhood\u001b[0;34m(self, pos, moore, include_center, radius)\u001b[0m\n\u001b[1;32m    288\u001b[0m \u001b[39mif\u001b[39;00m \u001b[39mnot\u001b[39;00m include_center:\n\u001b[1;32m    289\u001b[0m     coordinates\u001b[39m.\u001b[39mdiscard(pos)\n\u001b[0;32m--> 291\u001b[0m neighborhood \u001b[39m=\u001b[39m \u001b[39msorted\u001b[39;49m(coordinates)\n\u001b[1;32m    292\u001b[0m \u001b[39mself\u001b[39m\u001b[39m.\u001b[39m_neighborhood_cache[cache_key] \u001b[39m=\u001b[39m neighborhood\n\u001b[1;32m    294\u001b[0m \u001b[39mreturn\u001b[39;00m neighborhood\n",
      "\u001b[0;31mKeyboardInterrupt\u001b[0m: "
     ]
    }
   ],
   "source": [
    "data_size = []\n",
    "for grid_size in range(10, 100):\n",
    "    print(grid_size)\n",
    "    model = SchellingModel(grid_size, grid_size, 0.6, 0.4, 3)\n",
    "\n",
    "    while model.running and model.schedule.steps < 100:\n",
    "        model.step()\n",
    "    \n",
    "    segregation = get_segregation(model)\n",
    "    data_size.append([segregation, grid_size])"
   ]
  },
  {
   "cell_type": "code",
   "execution_count": null,
   "metadata": {},
   "outputs": [],
   "source": [
    "df_size = pd.DataFrame(data_size, columns = [\"segregation\", \"grid_size\"])\n",
    "plt.scatter(df_size.grid_size, df_size.segregation)\n",
    "plt.grid(True)"
   ]
  }
 ],
 "metadata": {
  "kernelspec": {
   "display_name": "Python 3.9.12 ('soda502')",
   "language": "python",
   "name": "python3"
  },
  "language_info": {
   "codemirror_mode": {
    "name": "ipython",
    "version": 3
   },
   "file_extension": ".py",
   "mimetype": "text/x-python",
   "name": "python",
   "nbconvert_exporter": "python",
   "pygments_lexer": "ipython3",
   "version": "3.9.12"
  },
  "orig_nbformat": 4,
  "vscode": {
   "interpreter": {
    "hash": "e6468b8895e924fccc236d0128e65103e16ba8e1a9332fc567cc87d0793038d3"
   }
  }
 },
 "nbformat": 4,
 "nbformat_minor": 2
}
