{
 "cells": [
  {
   "cell_type": "code",
   "execution_count": 20,
   "metadata": {},
   "outputs": [
    {
     "name": "stderr",
     "output_type": "stream",
     "text": [
      "[nltk_data] Downloading package stopwords to /home/joe/nltk_data...\n",
      "[nltk_data]   Package stopwords is already up-to-date!\n",
      "[nltk_data] Downloading package wordnet to /home/joe/nltk_data...\n",
      "[nltk_data]   Package wordnet is already up-to-date!\n",
      "[nltk_data] Downloading package omw-1.4 to /home/joe/nltk_data...\n"
     ]
    },
    {
     "data": {
      "text/plain": [
       "True"
      ]
     },
     "execution_count": 20,
     "metadata": {},
     "output_type": "execute_result"
    }
   ],
   "source": [
    "import os \n",
    "import pandas as pd \n",
    "from bs4 import BeautifulSoup\n",
    "from nltk.corpus import stopwords\n",
    "from nltk.stem.wordnet import WordNetLemmatizer\n",
    "import re\n",
    "from sklearn.feature_extraction.text import TfidfVectorizer\n",
    "from sklearn.decomposition import LatentDirichletAllocation, NMF\n",
    "\n",
    "import nltk\n",
    "nltk.download('stopwords')\n",
    "nltk.download('wordnet')\n",
    "nltk.download('omw-1.4')"
   ]
  },
  {
   "cell_type": "code",
   "execution_count": 9,
   "metadata": {},
   "outputs": [],
   "source": [
    "os.chdir('/home/joe/Documents/schoolwork/soda502/class2_20220830')\n",
    "\n",
    "comments = pd.read_csv('black names.csv')\n",
    "gender = pd.read_csv('Gendered Names Data.csv')\n",
    "data = pd.merge(left=comments, right =gender, on = 'name')\n",
    "data = data.dropna(subset=['comments'])\n",
    "data = data.reset_index()"
   ]
  },
  {
   "cell_type": "code",
   "execution_count": 18,
   "metadata": {},
   "outputs": [],
   "source": [
    "def comment_to_word_tokens(comment):\n",
    "    comment_text = BeautifulSoup(comment,'lxml').get_text()\n",
    "    letters_only = re.sub(\"[^a-zA-Z_]\", \" \", comment_text)\n",
    "    words = letters_only.split()\n",
    "    stops = set(stopwords.words(\"english\"))\n",
    "    meaningful_words = [w for w in words if not w in stops]\n",
    "    lmtzr = WordNetLemmatizer()\n",
    "    lemmatized_words = [lmtzr.lemmatize(w) for w in meaningful_words]\n",
    "    return(\" \".join(lemmatized_words))"
   ]
  },
  {
   "cell_type": "code",
   "execution_count": 21,
   "metadata": {},
   "outputs": [
    {
     "name": "stderr",
     "output_type": "stream",
     "text": [
      "/home/joe/Documents/schoolwork/soda502/soda502/lib/python3.9/site-packages/bs4/__init__.py:435: MarkupResemblesLocatorWarning: The input looks more like a filename than markup. You may want to open this file and pass the filehandle into Beautiful Soup.\n",
      "  warnings.warn(\n"
     ]
    },
    {
     "name": "stdout",
     "output_type": "stream",
     "text": [
      "done with another 500 comments\n",
      "done with another 500 comments\n",
      "done with another 500 comments\n"
     ]
    }
   ],
   "source": [
    "num_names = data['comments'].size\n",
    "clean_comments = []\n",
    "\n",
    "for i in range(0, num_names): \n",
    "    if((i + 1) % 500 == 0):\n",
    "       print('done with another 500 comments') \n",
    "    clean_comments.append(comment_to_word_tokens((data[\"comments\"][i])))"
   ]
  },
  {
   "cell_type": "code",
   "execution_count": 22,
   "metadata": {},
   "outputs": [],
   "source": [
    "name_list = list(data.name)\n",
    "tfidf_vectorizer = TfidfVectorizer(analyzer = \"word\", stop_words= name_list, \n",
    "                                   max_features=1000, ngram_range=(1,1))"
   ]
  },
  {
   "cell_type": "code",
   "execution_count": 23,
   "metadata": {},
   "outputs": [
    {
     "name": "stderr",
     "output_type": "stream",
     "text": [
      "/home/joe/Documents/schoolwork/soda502/soda502/lib/python3.9/site-packages/sklearn/utils/deprecation.py:87: FutureWarning: Function get_feature_names is deprecated; get_feature_names is deprecated in 1.0 and will be removed in 1.2. Please use get_feature_names_out instead.\n",
      "  warnings.warn(msg, category=FutureWarning)\n"
     ]
    }
   ],
   "source": [
    "tfidf = tfidf_vectorizer.fit_transform(clean_comments)\n",
    "\n",
    "lda = LatentDirichletAllocation(n_components = 10, max_iter=5, \n",
    "                                learning_offset= 50., random_state=(0))\n",
    "lda.fit(tfidf) \n",
    "\n",
    "tf_feature_names = tfidf_vectorizer.get_feature_names()"
   ]
  },
  {
   "cell_type": "code",
   "execution_count": 26,
   "metadata": {},
   "outputs": [
    {
     "name": "stdout",
     "output_type": "stream",
     "text": [
      "Topic 0:\n",
      "supposed, spelled, rugged, ghetto, powerful, respect, happen, handsome, awesome, sorry, nice, male, anyone, feel, sound, name, find, masculine, boy, charlie, kat, jo, much, know, enough, set, prefer, bree, changing, also, combo, someday, complete, france, ugh, torus, spelling, reminds, way, terrible, taste, natural, idea, hideous, suggest, pretty, look, put, better, variation\n",
      "Topic 1:\n",
      "spelling, prefer, like, name, pretty, pronounced, really, original, le, joke, love, common, gender, confused, way, uh, natural, come, realize, since, lay, reason, see, la, black, look, either, better, supposed, hair, mine, pronunciation, female, fact, though, tell, pronounce, nice, make, much, seems, think, actually, little, soft, prettier, ah, strange, beautiful, boring\n",
      "Topic 2:\n",
      "obvious, boring, fat, combo, disagree, syllable, incredibly, combination, sense, two, someone, prefer, sound, first, great, much, pretty, like, name, charlie, kat, jo, rugged, enough, ghetto, set, bree, changing, someday, complete, france, ugh, powerful, torus, spelling, reminds, way, terrible, taste, natural, respect, idea, hideous, handsome, suggest, look, put, better, variation, bland\n",
      "Topic 3:\n",
      "pretentious, terrible, charm, obnoxious, awful, name, yes, lyn, almost, lovely, beginning, look, add, ghetto, ok, way, like, even, gorgeous, spelling, trendy, pretty, better, reminds, trashy, tacky, meaning, exotic, everybody, plain, sound, aunt, wrong, make, without, enough, spelled, right, different, assume, call, think, exactly, pronounced, might, day, people, charlie, quite, kat\n",
      "Topic 4:\n",
      "better, way, personal, like, spelling, note, spelt, pretty, hate, father, dislike, name, favourite, tell, impression, gorgeous, prefer, classy, spell, either, difference, reminds, much, though, realize, always, mine, love, think, also, rather, pronounced, many, beautiful, feminine, look, people, set, someday, personally, variation, xc, childish, thinking, instead, using, pronounce, spelled, etc, overused\n",
      "Topic 5:\n",
      "name, bree, spelling, ghetto, tacky, jo, trashy, spelled, like, make, kat, na, spell, instead, way, best, cousin, look, sound, yuck, country, charlie, hate, use, horrible, ugh, nice, misspelling, even, prefer, perhaps, pronunciation, pronounce, beautiful, exception, form, rather, completely, variant, ugly, choice, friend, respect, better, original, call, think, need, feminine, ending\n",
      "Topic 6:\n",
      "hideous, simply, misspelling, hilarious, looking, name, sister, ugh, ask, fact, classic, lovely, spell, spelling, prefer, way, nice, make, stick, variant, matter, beautiful, personally, charlie, kat, jo, rugged, pretty, ghetto, enough, set, bree, changing, combo, someday, complete, france, powerful, torus, reminds, terrible, taste, natural, respect, idea, suggest, handsome, look, put, better\n",
      "Topic 7:\n",
      "spear, complete, look, begin, nicer, wise, two, stick, joke, spelling, prefer, history, way, world, wrong, least, better, know, name, pretty, make, anne, cousin, cheerleader, call, jo, named, mixed, like, twilight, blonde, rather, ditzy, opposite, wow, want, pop, thought, associated, celebrity, home, misspelled, france, snobby, meant, said, number, stuck, disagree, avoid\n",
      "Topic 8:\n",
      "name, like, think, sound, love, girl, spelling, people, really, nickname, would, boy, one, pretty, named, beautiful, also, know, make, much, always, nice, though, way, first, middle, little, cute, daughter, better, look, old, never, child, prefer, son, use, good, well, used, say, great, even, hate, strong, get, called, call, meaning, spell\n",
      "Topic 9:\n",
      "name, pretty, handsome, boyfriend, dumb, read, el, amazing, nickname, yet, another, often, combo, used, think, lyn, must, ending, mostly, variation, either, sound, much, know, loved, like, feminine, way, sweet, hate, little, well, beautiful, always, really, prefer, overused, cute, jo, masculine, short, initial, air, fresh, better, compared, bible, tongue, nicely, roll\n"
     ]
    }
   ],
   "source": [
    "def print_top_words(model, feature_names, n_top_words):\n",
    "    for topic_idx, topic in enumerate(model.components_):\n",
    "        print(\"Topic %d:\" % topic_idx)\n",
    "        print(\", \".join([feature_names[i] \n",
    "                         for i in topic.argsort()[:-n_top_words -1: -1]]))\n",
    "        \n",
    "print_top_words(lda, tf_feature_names, 50)"
   ]
  },
  {
   "cell_type": "code",
   "execution_count": 27,
   "metadata": {},
   "outputs": [
    {
     "name": "stderr",
     "output_type": "stream",
     "text": [
      "/home/joe/Documents/schoolwork/soda502/soda502/lib/python3.9/site-packages/sklearn/decomposition/_nmf.py:1477: FutureWarning: `alpha` was deprecated in version 1.0 and will be removed in 1.2. Use `alpha_W` and `alpha_H` instead\n",
      "  warnings.warn(\n",
      "/home/joe/Documents/schoolwork/soda502/soda502/lib/python3.9/site-packages/sklearn/decomposition/_nmf.py:1477: FutureWarning: `alpha` was deprecated in version 1.0 and will be removed in 1.2. Use `alpha_W` and `alpha_H` instead\n",
      "  warnings.warn(\n"
     ]
    },
    {
     "name": "stdout",
     "output_type": "stream",
     "text": [
      "Topic 0:\n",
      "name, like, think, sound, love, girl, people, really, nickname, boy, would, one, named, pretty, beautiful, also, know, nice, middle, always, daughter, make, first, little, though, old, never, cute, much, child, son, well, good, great, used, say, called, strong, call, use, even, get, meaning, popular, hate, common, masculine, mean, friend, lot\n",
      "Topic 1:\n",
      "spelling, like, look, spell, name, spelled, prefer, way, better, pronounced, much, pretty, people, pronounce, make, wrong, spelt, different, love, original, variant, variation, instead, prettier, best, want, think, though, ee, really, feminine, always, end, use, tacky, misspelled, trashy, parent, pronunciation, misspelling, right, form, seems, ugly, actually, dislike, personally, correct, nicer, least\n"
     ]
    },
    {
     "name": "stderr",
     "output_type": "stream",
     "text": [
      "/home/joe/Documents/schoolwork/soda502/soda502/lib/python3.9/site-packages/sklearn/decomposition/_nmf.py:1692: ConvergenceWarning: Maximum number of iterations 200 reached. Increase it to improve convergence.\n",
      "  warnings.warn(\n"
     ]
    }
   ],
   "source": [
    "nmf = NMF(n_components=10, random_state=1, alpha=.1, l1_ratio=.5).fit(tfidf)\n",
    "nmf = NMF(n_components=2, random_state=1, alpha=.1, l1_ratio=.5).fit(tfidf)\n",
    "\n",
    "print_top_words(nmf, tf_feature_names, 50)"
   ]
  },
  {
   "cell_type": "code",
   "execution_count": 28,
   "metadata": {},
   "outputs": [
    {
     "name": "stderr",
     "output_type": "stream",
     "text": [
      "/home/joe/Documents/schoolwork/soda502/soda502/lib/python3.9/site-packages/sklearn/decomposition/_nmf.py:1477: FutureWarning: `alpha` was deprecated in version 1.0 and will be removed in 1.2. Use `alpha_W` and `alpha_H` instead\n",
      "  warnings.warn(\n"
     ]
    }
   ],
   "source": [
    "topics = nmf.transform(tfidf)\n",
    "topic_df = pd.DataFrame(topics)\n",
    "data = data.join(topic_df)\n",
    "\n",
    "corr = data.corr()"
   ]
  }
 ],
 "metadata": {
  "kernelspec": {
   "display_name": "Python 3.9.12 ('soda502')",
   "language": "python",
   "name": "python3"
  },
  "language_info": {
   "codemirror_mode": {
    "name": "ipython",
    "version": 3
   },
   "file_extension": ".py",
   "mimetype": "text/x-python",
   "name": "python",
   "nbconvert_exporter": "python",
   "pygments_lexer": "ipython3",
   "version": "3.9.12"
  },
  "orig_nbformat": 4,
  "vscode": {
   "interpreter": {
    "hash": "e6468b8895e924fccc236d0128e65103e16ba8e1a9332fc567cc87d0793038d3"
   }
  }
 },
 "nbformat": 4,
 "nbformat_minor": 2
}
